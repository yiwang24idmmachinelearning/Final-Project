{
 "cells": [
  {
   "cell_type": "code",
   "execution_count": 41,
   "metadata": {},
   "outputs": [],
   "source": [
    "!wget -q https://github.com/DM-GY-9103-2024F-H/9103-utils/raw/main/src/data_utils.py\n",
    "!wget -q https://github.com/DM-GY-9103-2024F-H/9103-utils/raw/main/src/image_utils.py"
   ]
  },
  {
   "cell_type": "code",
   "execution_count": 42,
   "metadata": {},
   "outputs": [],
   "source": [
    "from os import listdir, path\n",
    "from image_utils import open_image"
   ]
  },
  {
   "cell_type": "code",
   "execution_count": 40,
   "metadata": {},
   "outputs": [
    {
     "ename": "FileNotFoundError",
     "evalue": "[Errno 2] No such file or directory: '../9103-utils/datasets/image/sign-language'",
     "output_type": "error",
     "traceback": [
      "\u001b[0;31m---------------------------------------------------------------------------\u001b[0m",
      "\u001b[0;31mFileNotFoundError\u001b[0m                         Traceback (most recent call last)",
      "Cell \u001b[0;32mIn[40], line 4\u001b[0m\n\u001b[1;32m      1\u001b[0m img_in_dir \u001b[38;5;241m=\u001b[39m \u001b[38;5;124m\"\u001b[39m\u001b[38;5;124m../9103-utils/datasets/image/sign-language\u001b[39m\u001b[38;5;124m\"\u001b[39m\n\u001b[1;32m      2\u001b[0m img_out_dir \u001b[38;5;241m=\u001b[39m \u001b[38;5;124m\"\u001b[39m\u001b[38;5;124m./data/image/sign-language/\u001b[39m\u001b[38;5;124m\"\u001b[39m\n\u001b[0;32m----> 4\u001b[0m in_dirs \u001b[38;5;241m=\u001b[39m \u001b[38;5;28msorted\u001b[39m([d \u001b[38;5;28;01mfor\u001b[39;00m d \u001b[38;5;129;01min\u001b[39;00m \u001b[43mlistdir\u001b[49m\u001b[43m(\u001b[49m\u001b[43mimg_in_dir\u001b[49m\u001b[43m)\u001b[49m \u001b[38;5;28;01mif\u001b[39;00m path\u001b[38;5;241m.\u001b[39misdir(path\u001b[38;5;241m.\u001b[39mjoin(img_in_dir, d))])\n\u001b[1;32m      6\u001b[0m \u001b[38;5;28;01mdef\u001b[39;00m \u001b[38;5;21mis_image_file\u001b[39m(f):\n\u001b[1;32m      7\u001b[0m   f_lower \u001b[38;5;241m=\u001b[39m f\u001b[38;5;241m.\u001b[39mlower()\n",
      "\u001b[0;31mFileNotFoundError\u001b[0m: [Errno 2] No such file or directory: '../9103-utils/datasets/image/sign-language'"
     ]
    }
   ],
   "source": [
    "img_in_dir = \"../9103-utils/datasets/image/sign-language\"\n",
    "img_out_dir = \"./data/image/sign-language/\"\n",
    "\n",
    "in_dirs = sorted([d for d in listdir(img_in_dir) if path.isdir(path.join(img_in_dir, d))])\n",
    "\n",
    "def is_image_file(f):\n",
    "  f_lower = f.lower()\n",
    "  for e in [\"jpg\", \"jpeg\", \"png\"]:\n",
    "    if f_lower.endswith(e):\n",
    "      return True\n",
    "  return False\n",
    "\n",
    "for d in in_dirs:\n",
    "  in_path = path.join(img_in_dir, d)\n",
    "  fnames = sorted([f for f in listdir(in_path) if is_image_file(f)])\n",
    "  for i,f in enumerate(fnames):\n",
    "    img = open_image(path.join(in_path, f)).convert(\"RGB\")\n",
    "    img.thumbnail([300, 200])\n",
    "    img.save(path.join(img_out_dir, f\"{d}-{('000'+str(i))[-2:]}.jpg\"))"
   ]
  },
  {
   "cell_type": "code",
   "execution_count": null,
   "metadata": {},
   "outputs": [],
   "source": [
    "import torch\n",
    "\n",
    "from torch.utils.data import DataLoader\n",
    "from torchvision.transforms import v2\n",
    "\n",
    "from nn_utils import SignUtils"
   ]
  },
  {
   "cell_type": "code",
   "execution_count": null,
   "metadata": {},
   "outputs": [],
   "source": [
    "train_dataset, test_dataset = SignUtils.train_test_split_cnn(test_ratio=0.2)\n",
    "len(train_dataset), len(test_dataset)"
   ]
  },
  {
   "cell_type": "code",
   "execution_count": null,
   "metadata": {},
   "outputs": [],
   "source": [
    "train_dl = DataLoader(train_dataset, batch_size=64, shuffle=True)\n",
    "test_dl = DataLoader(test_dataset, batch_size=64, shuffle=False)\n",
    "\n",
    "img,label = next(iter(train_dl))\n",
    "print(img.shape, label.shape)\n",
    "display(v2.ToPILImage()(img[0]))\n",
    "display(v2.ToPILImage()(img[1]))\n",
    "display(v2.ToPILImage()(img[2]))\n",
    "\n",
    "with torch.no_grad():\n",
    "  img,label = next(iter(test_dl))\n",
    "  print(img.shape, label.shape)\n",
    "  display(v2.ToPILImage()(img[0]))"
   ]
  },
  {
   "cell_type": "code",
   "execution_count": null,
   "metadata": {},
   "outputs": [],
   "source": [
    "import numpy as np\n",
    "import pandas as pd\n",
    "import os\n",
    "\n",
    "from PIL import Image"
   ]
  },
  {
   "cell_type": "code",
   "execution_count": null,
   "metadata": {},
   "outputs": [],
   "source": [
    "# Set the image path\n",
    "data_dir = \"data/image/sign-language\""
   ]
  },
  {
   "cell_type": "code",
   "execution_count": null,
   "metadata": {},
   "outputs": [],
   "source": [
    "# load data\n",
    "def load_images(data_dir):\n",
    "  fnames = sorted([f for f in os.listdir(data_dir) if f.endswith(\"jpg\")])\n",
    "\n",
    "  data = []\n",
    "  labels = []\n",
    "\n",
    "  for img_name in fnames:\n",
    "    label = img_name.split(\"-\")[0]\n",
    "    # Open the image and grayscale it\n",
    "    img_path = os.path.join(data_dir, img_name)\n",
    "    img = Image.open(img_path).convert('L')\n",
    "    img = img.resize((64, 64))  # 调整到固定大小\n",
    "    data.append(np.array(img).flatten())  # 展平图像\n",
    "    labels.append(label)\n",
    "\n",
    "  return np.array(data), np.array(labels), sorted(list(set(labels)))"
   ]
  },
  {
   "cell_type": "code",
   "execution_count": 20,
   "metadata": {},
   "outputs": [],
   "source": [
    "# import os\n",
    "# import numpy as np\n",
    "# import pandas as pd\n",
    "# from PIL import Image\n",
    "\n",
    "# # from data_utils import LFWUtils\n"
   ]
  },
  {
   "cell_type": "code",
   "execution_count": 21,
   "metadata": {},
   "outputs": [],
   "source": [
    "# # Set the image path\n",
    "# data_dir = \"data/image\"\n",
    "# categories = ['family', 'hello', 'help', 'house', 'i_love_you', 'no', 'please', 'sorry', 'thankyou', 'yes']"
   ]
  },
  {
   "cell_type": "code",
   "execution_count": 23,
   "metadata": {},
   "outputs": [],
   "source": [
    "# load_images returns the categories now\n",
    "X_np, y_np, categories = load_images(data_dir)\n",
    "\n",
    "# this will have encode the categories into numbers\n",
    "category2id = {c:i for i,c in enumerate(categories)}"
   ]
  },
  {
   "cell_type": "code",
   "execution_count": null,
   "metadata": {},
   "outputs": [],
   "source": [
    "# Load and preprocess the data\n",
    "X_np, y_np = load_images(data_dir, categories)\n",
    "X = pd.DataFrame(X_np)\n",
    "y = pd.DataFrame(y_np,columns=['label'])"
   ]
  },
  {
   "cell_type": "code",
   "execution_count": null,
   "metadata": {},
   "outputs": [],
   "source": [
    "from sklearn.ensemble import RandomForestClassifier\n",
    "from sklearn.decomposition import PCA\n",
    "from sklearn.preprocessing import StandardScaler\n",
    "from sklearn.model_selection import train_test_split\n",
    "from sklearn.metrics import accuracy_score, confusion_matrix\n",
    "from data_utils import classification_error, display_confusion_matrix"
   ]
  },
  {
   "cell_type": "code",
   "execution_count": 24,
   "metadata": {},
   "outputs": [],
   "source": [
    "# Data standardization\n",
    "scaler = StandardScaler()\n",
    "X_scaled = scaler.fit_transform(X)\n",
    "\n",
    "# Dimensionality reduction using PCA\n",
    "pca = PCA(n_components=50)  # Set number of principal components\n",
    "X_pca = pca.fit_transform(X_scaled)"
   ]
  },
  {
   "cell_type": "code",
   "execution_count": 25,
   "metadata": {},
   "outputs": [],
   "source": [
    "#  Train-test split, Separate input and output columns for training and testing data\n",
    "X_train, X_test, y_train, y_test = train_test_split(X_pca, y_np, test_size=0.2, random_state=42)\n",
    "\n",
    "# TODO: create a classifier\n",
    "rf_classifier = RandomForestClassifier(n_estimators=100, random_state=42)"
   ]
  },
  {
   "cell_type": "code",
   "execution_count": 26,
   "metadata": {},
   "outputs": [],
   "source": [
    "# Train the model using training data and labels\n",
    "rf_classifier.fit(X_train, y_train)\n",
    "\n",
    "# Run prediction on train data\n",
    "train_predictions = rf_classifier.predict(X_train)\n"
   ]
  },
  {
   "cell_type": "code",
   "execution_count": 27,
   "metadata": {},
   "outputs": [
    {
     "name": "stdout",
     "output_type": "stream",
     "text": [
      "Training Accuracy: 100.00%\n",
      "Training Classification Error: 0.00\n",
      "Test Accuracy: 14.29%\n",
      "Confusion Matrix:\n",
      " [[0 0 0 1 0 0 0 1 0 0]\n",
      " [0 0 1 0 0 0 0 2 0 0]\n",
      " [0 2 0 0 0 0 0 1 0 0]\n",
      " [1 0 0 1 0 1 0 0 0 0]\n",
      " [0 0 1 0 0 1 0 0 0 0]\n",
      " [0 0 0 0 0 0 0 0 0 0]\n",
      " [0 0 0 0 0 2 0 0 0 0]\n",
      " [0 0 0 0 0 2 0 0 0 0]\n",
      " [0 0 0 0 0 0 0 0 2 0]\n",
      " [0 1 0 0 1 0 0 0 0 0]]\n"
     ]
    },
    {
     "data": {
      "image/png": "[encoded data removed]",
      "text/plain": [
       "<Figure size 640x480 with 2 Axes>"
      ]
     },
     "metadata": {},
     "output_type": "display_data"
    }
   ],
   "source": [
    "# Validate model with training data\n",
    "train_accuracy = accuracy_score(y_train, train_predictions)\n",
    "print(f\"Training Accuracy: {train_accuracy * 100:.2f}%\")\n",
    "\n",
    "# Classification error for training data\n",
    "print(f\"Training Classification Error: {classification_error(y_train, train_predictions):.2f}\")\n",
    "\n",
    "# Evaluate on the test data\n",
    "test_predictions = rf_classifier.predict(X_test)\n",
    "test_accuracy = accuracy_score(y_test, test_predictions)\n",
    "print(f\"Test Accuracy: {test_accuracy * 100:.2f}%\")\n",
    "\n",
    "# Confusion matrix for test data\n",
    "test_confusion_matrix = confusion_matrix(y_test, test_predictions)\n",
    "print(\"Confusion Matrix:\\n\", test_confusion_matrix)\n",
    "\n",
    "display_confusion_matrix(y_test, test_predictions, categories)\n"
   ]
  }
 ],
 "metadata": {
  "kernelspec": {
   "display_name": "Python 3",
   "language": "python",
   "name": "python3"
  },
  "language_info": {
   "codemirror_mode": {
    "name": "ipython",
    "version": 3
   },
   "file_extension": ".py",
   "mimetype": "text/x-python",
   "name": "python",
   "nbconvert_exporter": "python",
   "pygments_lexer": "ipython3",
   "version": "3.10.16"
  }
 },
 "nbformat": 4,
 "nbformat_minor": 2
}
